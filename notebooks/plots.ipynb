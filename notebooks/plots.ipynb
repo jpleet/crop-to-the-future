{
 "cells": [
  {
   "cell_type": "code",
   "execution_count": null,
   "metadata": {},
   "outputs": [],
   "source": [
    "using PyPlot\n",
    "#using PyCall\n",
    "#@pyimport matplotlib.animation as anim\n",
    "using JLD"
   ]
  },
  {
   "cell_type": "code",
   "execution_count": null,
   "metadata": {},
   "outputs": [],
   "source": [
    "year = 2030;"
   ]
  },
  {
   "cell_type": "code",
   "execution_count": null,
   "metadata": {},
   "outputs": [],
   "source": [
    "grow_mat = load(\"data/grow_prob/upland_rice_daily_grow_prob_\"*string(year)*\".jld\", \"grow_prob\");"
   ]
  },
  {
   "cell_type": "code",
   "execution_count": null,
   "metadata": {
    "scrolled": false
   },
   "outputs": [],
   "source": [
    "for i in 200:365\n",
    "   \n",
    "    fig, ax = subplots(figsize=(10,7))\n",
    "    cb = ax[:matshow](transpose(grow_mat[:,:,i]), vmin=0, vmax=1, cmap=get_cmap(\"afmhot_r\"), origin=\"lower\")\n",
    "    colorbar(cb, orientation=\"horizontal\", pad=0)\n",
    "    axis(\"off\")\n",
    "\n",
    "    title(\"Grow Probability\", y=0.97, fontsize=18, loc=\"left\")\n",
    "    suptitle(\"Day \"*string(i)*\" of year \"*string(year), y=0.8, x=0.055, horizontalalignment=\"left\")\n",
    "    tight_layout()\n",
    "    \n",
    "    figN = open(\"examples/temp/\"*string(i)*\".png\", \"w\")\n",
    "    savefig(figN, dpi=300, pad_inches=0, bbox_inches=\"tight\")\n",
    "    close(figN)\n",
    "    \n",
    "end"
   ]
  },
  {
   "cell_type": "code",
   "execution_count": null,
   "metadata": {},
   "outputs": [],
   "source": [
    "fig, ax = subplots(figsize=(10,7))\n",
    "cb = ax[:matshow](transpose(grow_mat[:,:,1]), vmin=0, vmax=1, cmap=get_cmap(\"afmhot_r\"), origin=\"lower\")\n",
    "colorbar(cb, orientation=\"horizontal\", pad=-0.05)\n",
    "axis(\"off\")\n",
    "\n",
    "title(\"Grow Probability\", y=1, fontsize=18, loc=\"left\")\n",
    "suptitle(\"Day X\", y=0.75, x=0.055, horizontalalignment=\"left\")\n",
    "tight_layout()"
   ]
  },
  {
   "cell_type": "markdown",
   "metadata": {},
   "source": [
    "# Test Loc"
   ]
  },
  {
   "cell_type": "code",
   "execution_count": null,
   "metadata": {},
   "outputs": [],
   "source": [
    "using JLD"
   ]
  },
  {
   "cell_type": "code",
   "execution_count": null,
   "metadata": {},
   "outputs": [],
   "source": [
    "x = load(\"/home/jordan/Desktop/daily_grow_prob_2025_2030_254.4655_50.40005.jld\", \"grow_prob\");"
   ]
  },
  {
   "cell_type": "code",
   "execution_count": null,
   "metadata": {},
   "outputs": [],
   "source": [
    "using PyPlot"
   ]
  },
  {
   "cell_type": "code",
   "execution_count": null,
   "metadata": {},
   "outputs": [],
   "source": [
    "plot(x)"
   ]
  },
  {
   "cell_type": "markdown",
   "metadata": {},
   "source": [
    "# Test Lat / Lon"
   ]
  },
  {
   "cell_type": "code",
   "execution_count": null,
   "metadata": {},
   "outputs": [],
   "source": [
    "using NetCDF"
   ]
  },
  {
   "cell_type": "code",
   "execution_count": null,
   "metadata": {},
   "outputs": [],
   "source": [
    "tasmax = ncread(\"data/test/tasmax_day_BCSD_rcp45_r1i1p1_BNU-ESM_2006.nc\", \"tasmax\", start = [1,1,1], count=[-1,-1,1]);"
   ]
  },
  {
   "cell_type": "code",
   "execution_count": null,
   "metadata": {},
   "outputs": [],
   "source": [
    "using PyPlot"
   ]
  },
  {
   "cell_type": "code",
   "execution_count": null,
   "metadata": {},
   "outputs": [],
   "source": [
    "q = tasmax[:,:,1];"
   ]
  },
  {
   "cell_type": "code",
   "execution_count": null,
   "metadata": {},
   "outputs": [],
   "source": [
    "q[q.==maximum(q)] = 0"
   ]
  },
  {
   "cell_type": "code",
   "execution_count": null,
   "metadata": {},
   "outputs": [],
   "source": [
    "z = zeros(1440,720);"
   ]
  },
  {
   "cell_type": "code",
   "execution_count": null,
   "metadata": {},
   "outputs": [],
   "source": [
    "lons = collect(linspace(0.125,359.875,1440));\n",
    "lats = collect(linspace(-89.875, 89.875, 720));"
   ]
  },
  {
   "cell_type": "code",
   "execution_count": null,
   "metadata": {},
   "outputs": [],
   "source": [
    "mj_lat = 50.4;"
   ]
  },
  {
   "cell_type": "code",
   "execution_count": null,
   "metadata": {},
   "outputs": [],
   "source": [
    "mj_lon = 360 -105.53445;"
   ]
  },
  {
   "cell_type": "code",
   "execution_count": null,
   "metadata": {},
   "outputs": [],
   "source": [
    "mj_lon"
   ]
  },
  {
   "cell_type": "code",
   "execution_count": null,
   "metadata": {},
   "outputs": [],
   "source": [
    "findmin(abs.(lats - 50.4))"
   ]
  },
  {
   "cell_type": "code",
   "execution_count": null,
   "metadata": {},
   "outputs": [],
   "source": [
    "findmin(abs.(lons-mj_lon))"
   ]
  },
  {
   "cell_type": "code",
   "execution_count": null,
   "metadata": {},
   "outputs": [],
   "source": [
    "z[1018,562] = 1"
   ]
  },
  {
   "cell_type": "code",
   "execution_count": null,
   "metadata": {},
   "outputs": [],
   "source": [
    "fig, ax = subplots(figsize=(10,7))\n",
    "cb = ax[:matshow](transpose(q), cmap=get_cmap(\"afmhot_r\"), origin=\"lower\")\n",
    "ax[:scatter]([1018],[562], color=\"blue\")"
   ]
  }
 ],
 "metadata": {
  "kernelspec": {
   "display_name": "Julia 0.6.2",
   "language": "julia",
   "name": "julia-0.6"
  },
  "language_info": {
   "file_extension": ".jl",
   "mimetype": "application/julia",
   "name": "julia",
   "version": "0.6.2"
  }
 },
 "nbformat": 4,
 "nbformat_minor": 2
}
