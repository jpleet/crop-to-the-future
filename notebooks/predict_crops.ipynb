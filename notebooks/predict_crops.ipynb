{
 "cells": [
  {
   "cell_type": "markdown",
   "metadata": {},
   "source": [
    "# Location\n",
    "Test notebook to make predictions at specific locations"
   ]
  },
  {
   "cell_type": "code",
   "execution_count": null,
   "metadata": {},
   "outputs": [],
   "source": [
    "using NetCDF"
   ]
  },
  {
   "cell_type": "code",
   "execution_count": null,
   "metadata": {},
   "outputs": [],
   "source": [
    "lons = collect(linspace(0.125,359.875,1440));\n",
    "lats = collect(linspace(-89.875, 89.875, 720));"
   ]
  },
  {
   "cell_type": "code",
   "execution_count": null,
   "metadata": {},
   "outputs": [],
   "source": [
    "lon_idx = 881+35;\n",
    "lat_idx = 551+17;"
   ]
  },
  {
   "cell_type": "code",
   "execution_count": null,
   "metadata": {},
   "outputs": [],
   "source": [
    "year = 2006\n",
    "\n",
    "tasmax_f = string(\"data/test/tasmax_day_BCSD_rcp45_r1i1p1_BNU-ESM_\", year, \".nc\")\n",
    "tasmin_f = string(\"data/test/tasmin_day_BCSD_rcp45_r1i1p1_BNU-ESM_\", year, \".nc\")\n",
    "\n",
    "nc_tasmax = NetCDF.open(tasmax_f);\n",
    "nc_tasmin = NetCDF.open(tasmin_f);\n",
    "\n",
    "\n",
    "ts_max = NetCDF.readvar(nc_tasmax, \"tasmax\", start=[lon_idx,lat_idx,1], count=[1,1,-1]);\n",
    "ts_min = NetCDF.readvar(nc_tasmin, \"tasmin\", start=[lon_idx,lat_idx,1], count=[1,1,-1]);\n",
    "\n",
    "ts_max1 = vcat(ts_max...);\n",
    "ts_min1 = vcat(ts_min...);\n",
    "\n",
    "grow_range = (ts_min1 .> 273.15) .& (ts_max1 .< (273.15+34))\n",
    "gdd1 = ((ts_max1 + ts_min1)/2 - 273.15) .* grow_range;"
   ]
  },
  {
   "cell_type": "code",
   "execution_count": null,
   "metadata": {},
   "outputs": [],
   "source": [
    "year = 2007\n",
    "\n",
    "tasmax_f = string(\"data/test/tasmax_day_BCSD_rcp45_r1i1p1_BNU-ESM_\", year, \".nc\")\n",
    "tasmin_f = string(\"data/test/tasmin_day_BCSD_rcp45_r1i1p1_BNU-ESM_\", year, \".nc\")\n",
    "\n",
    "nc_tasmax = NetCDF.open(tasmax_f);\n",
    "nc_tasmin = NetCDF.open(tasmin_f);\n",
    "\n",
    "\n",
    "ts_max = NetCDF.readvar(nc_tasmax, \"tasmax\", start=[lon_idx,lat_idx,1], count=[1,1,-1]);\n",
    "ts_min = NetCDF.readvar(nc_tasmin, \"tasmin\", start=[lon_idx,lat_idx,1], count=[1,1,-1]);\n",
    "\n",
    "ts_max2 = vcat(ts_max...);\n",
    "ts_min2 = vcat(ts_min...);\n",
    "\n",
    "grow_range = (ts_min2 .> 273.15) .& (ts_max2 .< (273.15+34))\n",
    "gdd2 = ((ts_max2 + ts_min2)/2 - 273.15) .* grow_range;"
   ]
  },
  {
   "cell_type": "code",
   "execution_count": null,
   "metadata": {},
   "outputs": [],
   "source": [
    "gdds = vcat([gdd1, gdd2]...);"
   ]
  },
  {
   "cell_type": "code",
   "execution_count": null,
   "metadata": {},
   "outputs": [],
   "source": [
    "agdd = 1665;"
   ]
  },
  {
   "cell_type": "code",
   "execution_count": null,
   "metadata": {},
   "outputs": [],
   "source": [
    "grow_range = gdds.>0\n",
    "grow_prob = [sum(cumprod(grow_range[i:(i+364)]) .* gdds[i:(i+364)], 1)[1] > agdd for i in 1:(size(gdds,1)-365)];"
   ]
  },
  {
   "cell_type": "code",
   "execution_count": null,
   "metadata": {},
   "outputs": [],
   "source": [
    "grow_count = Array{Int64,1}(0)\n",
    "\n",
    "for i in 1:5\n",
    "   \n",
    "    if size(grow_prob) != size(grow_count)\n",
    "        grow_count = grow_prob\n",
    "    else\n",
    "        grow_count += grow_prob\n",
    "        \n",
    "    end\n",
    "    \n",
    "end"
   ]
  },
  {
   "cell_type": "markdown",
   "metadata": {},
   "source": [
    "## OLDER"
   ]
  },
  {
   "cell_type": "code",
   "execution_count": null,
   "metadata": {},
   "outputs": [],
   "source": [
    "using NetCDF"
   ]
  },
  {
   "cell_type": "code",
   "execution_count": null,
   "metadata": {},
   "outputs": [],
   "source": [
    "lon_idx = 881\n",
    "lat_idx = 551"
   ]
  },
  {
   "cell_type": "code",
   "execution_count": null,
   "metadata": {
    "scrolled": true
   },
   "outputs": [],
   "source": [
    "year = 2006;\n",
    "tasmax_f = string(\"data/test/tasmax_day_BCSD_rcp45_r1i1p1_BNU-ESM_\", year, \".nc\")\n",
    "tasmin_f = string(\"data/test/tasmin_day_BCSD_rcp45_r1i1p1_BNU-ESM_\", year, \".nc\")\n",
    "nc_tasmax = NetCDF.open(tasmax_f);\n",
    "nc_tasmin = NetCDF.open(tasmin_f);\n",
    "lons = NetCDF.readvar(nc_tasmax, \"lon\");\n",
    "lats = NetCDF.readvar(nc_tasmax, \"lat\");"
   ]
  },
  {
   "cell_type": "code",
   "execution_count": null,
   "metadata": {},
   "outputs": [],
   "source": [
    "ts_max = NetCDF.readvar(nc_tasmax, \"tasmax\", start=[lon_idx,lat_idx,1], count=[1,1,-1]);\n",
    "ts_min = NetCDF.readvar(nc_tasmin, \"tasmin\", start=[lon_idx,lat_idx,1], count=[1,1,-1]);\n",
    "ts_max = vcat(ts_max...);\n",
    "ts_min = vcat(ts_min...);"
   ]
  },
  {
   "cell_type": "code",
   "execution_count": null,
   "metadata": {},
   "outputs": [],
   "source": [
    "NetCDF.close(nc_tasmax);\n",
    "NetCDF.close(nc_tasmin);"
   ]
  },
  {
   "cell_type": "markdown",
   "metadata": {},
   "source": [
    "# DAILY MAP"
   ]
  },
  {
   "cell_type": "code",
   "execution_count": null,
   "metadata": {},
   "outputs": [],
   "source": [
    "using NetCDF"
   ]
  },
  {
   "cell_type": "code",
   "execution_count": null,
   "metadata": {},
   "outputs": [],
   "source": [
    "ttop = 34 + 273.15;\n",
    "tbase = 5 + 273.15;"
   ]
  },
  {
   "cell_type": "code",
   "execution_count": null,
   "metadata": {},
   "outputs": [],
   "source": [
    "tasmax = ncread(string(\"data/test/tasmax_day_BCSD_rcp45_r1i1p1_BNU-ESM_\", 2006, \".nc\"), \"tasmax\");\n",
    "tasmin = ncread(string(\"data/test/tasmin_day_BCSD_rcp45_r1i1p1_BNU-ESM_\", 2006, \".nc\"), \"tasmin\");\n",
    "    "
   ]
  },
  {
   "cell_type": "code",
   "execution_count": null,
   "metadata": {},
   "outputs": [],
   "source": [
    "@time grow_range = (tasmin.>tbase) .& (tasmax.<ttop);"
   ]
  },
  {
   "cell_type": "code",
   "execution_count": null,
   "metadata": {},
   "outputs": [],
   "source": [
    "gdd = ((tasmax + tasmin) / 2 - tbase) .* grow_range"
   ]
  },
  {
   "cell_type": "code",
   "execution_count": null,
   "metadata": {},
   "outputs": [],
   "source": [
    "# calc_gdd\n",
    "\n",
    "function calc_gdd(cmip::String, rcp::String, year::Int64, ttop::Float64, tbase::Float64, data_dir::String)\n",
    "\n",
    "    println(string(\"\\t\\tCalculating gdd for year \", year))\n",
    "    \n",
    "    # Test\n",
    "    tasmax = ncread(string(\"data/test/tasmax_day_BCSD_rcp45_r1i1p1_BNU-ESM_\", year, \".nc\"), \"tasmax\")\n",
    "    tasmin = ncread(string(\"data/test/tasmin_day_BCSD_rcp45_r1i1p1_BNU-ESM_\", year, \".nc\"), \"tasmin\")\n",
    "    \n",
    "    \n",
    "    \n",
    "    \"\"\"\n",
    "    tasmax_f = string(data_dir, \"BCSD/\", rcp, \"/day/atmos/tasmax/r1i1p1/v1.0/tasmax_day_BCSD_\", rcp, \"_r1i1p1_\", cmip, \"_\", year, \".nc\")\n",
    "    tasmin_f = string(data_dir, \"BCSD/\", rcp, \"/day/atmos/tasmin/r1i1p1/v1.0/tasmin_day_BCSD_\", rcp, \"_r1i1p1_\", cmip, \"_\", year, \".nc\")\n",
    "\n",
    "    println(\"\\t\\tReading tasmax\")\n",
    "    nc_tasmax = NetCDF.open(tasmax_f)\n",
    "    tasmax = NetCDF.readvar(nc_tasmax, \"tasmax\")\n",
    "    NetCDF.close(nc_tasmax)\n",
    "    #tasmax = ncread(tasmax_f, \"tasmax\")\n",
    "\n",
    "    println(\"\\t\\tReading tasmin\")\n",
    "    nc_tasmin = NetCDF.open(tasmin_f)\n",
    "    tasmin = NetCDF.readvar(nc_tasmin, \"tasmin\")\n",
    "    NetCDF.close(nc_tasmin)\n",
    "    #tasmin = ncread(tasmin_f, \"tasmin\")\n",
    "\n",
    "    println(\"\\t\\tCalculating gdd\")\n",
    "    (tasmax + tasmin) / 2 - 273.15 - tbase\n",
    "    \"\"\"\n",
    "end"
   ]
  },
  {
   "cell_type": "markdown",
   "metadata": {},
   "source": [
    "# OLD"
   ]
  },
  {
   "cell_type": "markdown",
   "metadata": {},
   "source": [
    "# convert map results to matrix"
   ]
  },
  {
   "cell_type": "code",
   "execution_count": null,
   "metadata": {},
   "outputs": [],
   "source": [
    "@everywhere function calc_agdd_growth(gdd_ts::Array{Float64,1}, ttop::Float64, tbase::Float64, agdd::Float64)\n",
    "   \n",
    "    grow_range = (gdd_ts.>(0)) .& (gdd_ts.<(ttop-tbase))\n",
    "    [sum(cumprod(grow_range[i:(i+364)]) .* gdd_ts[i:(i+364)], 1)[1] > agdd for i in 1:365]\n",
    "\n",
    "end"
   ]
  },
  {
   "cell_type": "code",
   "execution_count": null,
   "metadata": {},
   "outputs": [],
   "source": [
    "@time res = calc_agdd_growth(rand(730), 0.75, 0.25, 0.01);"
   ]
  },
  {
   "cell_type": "code",
   "execution_count": null,
   "metadata": {},
   "outputs": [],
   "source": [
    "x1 = rand(10,10,730)-0.25;"
   ]
  },
  {
   "cell_type": "code",
   "execution_count": null,
   "metadata": {},
   "outputs": [],
   "source": [
    "@time res1 = pmap(f -> calc_agdd_growth(f, 0.75, 0.25, 0.2), [x1[i,t,:] for i in 1:size(x1)[1], t in 1:size(x1)[2]]);"
   ]
  },
  {
   "cell_type": "code",
   "execution_count": null,
   "metadata": {},
   "outputs": [],
   "source": [
    "x2 = rand(10,10,730)-0.25;"
   ]
  },
  {
   "cell_type": "code",
   "execution_count": null,
   "metadata": {},
   "outputs": [],
   "source": [
    "@time res2 = pmap(f -> calc_agdd_growth(f, 0.75, 0.25, 0.2), [x2[i,t,:] for i in 1:size(x1)[1], t in 1:size(x1)[2]]);"
   ]
  },
  {
   "cell_type": "code",
   "execution_count": null,
   "metadata": {},
   "outputs": [],
   "source": [
    "q = [zeros(365) for i in 1:10, t in 1:10];"
   ]
  },
  {
   "cell_type": "markdown",
   "metadata": {},
   "source": [
    "# rolling sum > 0"
   ]
  },
  {
   "cell_type": "code",
   "execution_count": null,
   "metadata": {},
   "outputs": [],
   "source": [
    "ttop = 0.75;\n",
    "tbase = 0.25;\n",
    "agdd = 0.01;"
   ]
  },
  {
   "cell_type": "code",
   "execution_count": null,
   "metadata": {},
   "outputs": [],
   "source": [
    "tavg = rand(10,10,730) + 273.15;"
   ]
  },
  {
   "cell_type": "code",
   "execution_count": null,
   "metadata": {},
   "outputs": [],
   "source": [
    "gdd = tavg - tbase;"
   ]
  },
  {
   "cell_type": "code",
   "execution_count": null,
   "metadata": {},
   "outputs": [],
   "source": [
    "gdd_ts = gdd[2,2,:];"
   ]
  },
  {
   "cell_type": "code",
   "execution_count": null,
   "metadata": {},
   "outputs": [],
   "source": [
    "function calc_agdd_growth(gdd_ts::Array{Float64,1}, ttop::Float64, tbase::Float64, agdd::Float64)\n",
    "   \n",
    "    grow_range = (gdd_ts.>(0)) .& (gdd_ts.<(ttop-tbase))\n",
    "    [sum(cumprod(grow_range[i:(i+364)]) .* gdd_ts[i:(i+364)], 1)[1] > agdd for i in 1:365]\n",
    "\n",
    "end"
   ]
  },
  {
   "cell_type": "code",
   "execution_count": null,
   "metadata": {},
   "outputs": [],
   "source": [
    "function predict_growth()"
   ]
  },
  {
   "cell_type": "markdown",
   "metadata": {},
   "source": [
    "## OLDER"
   ]
  },
  {
   "cell_type": "code",
   "execution_count": null,
   "metadata": {},
   "outputs": [],
   "source": [
    "using BenchmarkTools"
   ]
  },
  {
   "cell_type": "code",
   "execution_count": null,
   "metadata": {},
   "outputs": [],
   "source": [
    "const TTOP = 0.75;\n",
    "const TBASE = 0.25;\n",
    "const AGDD = 0.01;"
   ]
  },
  {
   "cell_type": "code",
   "execution_count": null,
   "metadata": {},
   "outputs": [],
   "source": [
    "function calc_daily_growth1(x)\n",
    "    grow_range = (x.>(TBASE)) .& (x.<(TTOP))\n",
    "    [sum(cumprod(grow_range[i:(i+364)]) .* (x[i:(i+364)] - TBASE), 1)[1] > AGDD for i in 1:365]\n",
    "end"
   ]
  },
  {
   "cell_type": "code",
   "execution_count": null,
   "metadata": {},
   "outputs": [],
   "source": [
    "@time calc_daily_growth1(rand(730));"
   ]
  },
  {
   "cell_type": "code",
   "execution_count": null,
   "metadata": {},
   "outputs": [],
   "source": [
    "function calc_daily_growth2(x::Array{Float64,1})\n",
    "    \n",
    "    #find range of growth\n",
    "    grow_range = (x.>(TBASE)) .& (x.<(TTOP))\n",
    "\n",
    "    gdd = zeros(Float64, size(x))\n",
    "    gdd[grow_range] = x[grow_range] - TBASE #Later, adjust for Kelvin\n",
    "    \n",
    "    [sum(cumprod(grow_range[i:(i+364)]) .* gdd[i:(i+364)], 1)[1] > AGDD for i in 1:365]\n",
    "    \n",
    "end"
   ]
  },
  {
   "cell_type": "code",
   "execution_count": null,
   "metadata": {},
   "outputs": [],
   "source": [
    "@time calc_daily_growth2(rand(730));"
   ]
  },
  {
   "cell_type": "code",
   "execution_count": null,
   "metadata": {},
   "outputs": [],
   "source": [
    "Profile.print(format=:flat)"
   ]
  },
  {
   "cell_type": "code",
   "execution_count": null,
   "metadata": {},
   "outputs": [],
   "source": [
    "function calc_daily_growth(x)\n",
    "    \n",
    "    #find range of growth\n",
    "    grow_range = (x.>(TBASE)) .& (x.<(TTOP))\n",
    "\n",
    "    x -= TBASE #Later, adjust for Kelvin\n",
    "    \n",
    "    [sum(cumprod(grow_range[i:(i+364)]) .* x[i:(i+364)], 1)[1] > AGDD for i in 1:365]\n",
    "    \n",
    "end"
   ]
  },
  {
   "cell_type": "code",
   "execution_count": null,
   "metadata": {},
   "outputs": [],
   "source": [
    "@benchmark calc_daily_growth(rand(730))"
   ]
  },
  {
   "cell_type": "code",
   "execution_count": null,
   "metadata": {},
   "outputs": [],
   "source": [
    "addprocs(4)"
   ]
  },
  {
   "cell_type": "code",
   "execution_count": null,
   "metadata": {},
   "outputs": [],
   "source": [
    "@everywhere function calc_daily_growth(x)\n",
    "    \n",
    "    #find range of growth\n",
    "    grow_range = (x.>(TBASE)) .& (x.<(TTOP))\n",
    "    \n",
    "    #[sum(cumprod(grow_range[i:(i+364)]) .* (x[i:(i+364)] - TBASE), 1)[1] > AGDD for i in 1:365]\n",
    "    gdd = zeros(Float64, size(x))\n",
    "    gdd[grow_range] = x[grow_range] - TBASE #Later, adjust for Kelvin\n",
    "    \n",
    "    [sum(cumprod(grow_range[i:(i+364)]) .* gdd[i:(i+364)], 1)[1] > AGDD for i in 1:365]\n",
    "    \n",
    "end"
   ]
  },
  {
   "cell_type": "code",
   "execution_count": null,
   "metadata": {},
   "outputs": [],
   "source": [
    "@everywhere TTOP = 0.75\n",
    "@everywhere TBASE = 0.25\n",
    "@everywhere AGDD = 0.01"
   ]
  },
  {
   "cell_type": "code",
   "execution_count": null,
   "metadata": {},
   "outputs": [],
   "source": [
    "x = rand(1440, 720, 730);"
   ]
  },
  {
   "cell_type": "code",
   "execution_count": null,
   "metadata": {},
   "outputs": [],
   "source": [
    "x - TBASE"
   ]
  },
  {
   "cell_type": "code",
   "execution_count": null,
   "metadata": {},
   "outputs": [],
   "source": [
    "@time grow_range = ((x.>(TBASE)) .& (x.<(TTOP)))"
   ]
  },
  {
   "cell_type": "code",
   "execution_count": null,
   "metadata": {},
   "outputs": [],
   "source": [
    "t = x[1,1,:];"
   ]
  },
  {
   "cell_type": "code",
   "execution_count": null,
   "metadata": {},
   "outputs": [],
   "source": [
    "@time w = [x[i,t,:] for i in 1:size(x)[1], t in 1:size(x)[2]];"
   ]
  },
  {
   "cell_type": "code",
   "execution_count": null,
   "metadata": {},
   "outputs": [],
   "source": [
    "x = rand(10,10,730);"
   ]
  },
  {
   "cell_type": "code",
   "execution_count": null,
   "metadata": {},
   "outputs": [],
   "source": [
    "t = Array{Array{Bool,2},2}"
   ]
  },
  {
   "cell_type": "code",
   "execution_count": null,
   "metadata": {},
   "outputs": [],
   "source": [
    "@time x_res1  = pmap(calc_daily_growth, [x[i,t,:] for i in 1:size(x)[1], t in 1:size(x)[2]]);"
   ]
  },
  {
   "cell_type": "code",
   "execution_count": null,
   "metadata": {},
   "outputs": [],
   "source": [
    "size(x_res1)[1]"
   ]
  },
  {
   "cell_type": "code",
   "execution_count": null,
   "metadata": {},
   "outputs": [],
   "source": [
    "function format_results(x)\n",
    "    \n",
    "    x_new = zeros(size(x)[1], size(x)[2],365)\n",
    "    counter = 1\n",
    "    for i in 1:10, t in 1:10\n",
    "        x_new[i,t,:] = x[counter]\n",
    "        counter +=1\n",
    "    end\n",
    "    \n",
    "    return x_new\n",
    "\n",
    "end"
   ]
  },
  {
   "cell_type": "code",
   "execution_count": null,
   "metadata": {},
   "outputs": [],
   "source": [
    "@time x_new = create_matrix(x_res);"
   ]
  },
  {
   "cell_type": "code",
   "execution_count": null,
   "metadata": {},
   "outputs": [],
   "source": [
    "function format_results(x)\n",
    "    \n",
    "    x_new = zeros(size(x)[1], size(x)[2],365)\n",
    "    counter = 1\n",
    "    for i in 1:10, t in 1:10\n",
    "        x_new[i,t,:] = x[counter]\n",
    "        counter +=1\n",
    "    end\n",
    "    \n",
    "    return x_new\n",
    "\n",
    "end"
   ]
  },
  {
   "cell_type": "code",
   "execution_count": null,
   "metadata": {},
   "outputs": [],
   "source": [
    "[(i,t) for i in 1:10, t in 1:10]\n",
    "    "
   ]
  },
  {
   "cell_type": "code",
   "execution_count": null,
   "metadata": {},
   "outputs": [],
   "source": [
    "cat(3, q[:])"
   ]
  },
  {
   "cell_type": "code",
   "execution_count": null,
   "metadata": {},
   "outputs": [],
   "source": [
    "reshape(cat(3, q...),10,10,365)"
   ]
  },
  {
   "cell_type": "code",
   "execution_count": null,
   "metadata": {},
   "outputs": [],
   "source": [
    "cat(3, map(x->x', q)...)"
   ]
  },
  {
   "cell_type": "code",
   "execution_count": null,
   "metadata": {},
   "outputs": [],
   "source": [
    "cat(3, q...)"
   ]
  },
  {
   "cell_type": "code",
   "execution_count": null,
   "metadata": {},
   "outputs": [],
   "source": [
    "cat(3, map(x->x', q)...)"
   ]
  },
  {
   "cell_type": "code",
   "execution_count": null,
   "metadata": {},
   "outputs": [],
   "source": [
    "vcat(map(x->x', q)...)"
   ]
  },
  {
   "cell_type": "code",
   "execution_count": null,
   "metadata": {},
   "outputs": [],
   "source": [
    "cat(3, q)"
   ]
  },
  {
   "cell_type": "code",
   "execution_count": null,
   "metadata": {},
   "outputs": [],
   "source": [
    "x_new = zeros(10,10,365);"
   ]
  },
  {
   "cell_type": "code",
   "execution_count": null,
   "metadata": {},
   "outputs": [],
   "source": [
    "for (t, i)"
   ]
  },
  {
   "cell_type": "code",
   "execution_count": null,
   "metadata": {},
   "outputs": [],
   "source": [
    "for (t,i,z) in 1:10, y in 1:10\n",
    "    print(t,i,z)\n",
    "end"
   ]
  },
  {
   "cell_type": "code",
   "execution_count": null,
   "metadata": {},
   "outputs": [],
   "source": [
    "for (t, i) in enumerate(q)\n",
    "   x_new[t] = q[t][:] \n",
    "end"
   ]
  },
  {
   "cell_type": "code",
   "execution_count": null,
   "metadata": {},
   "outputs": [],
   "source": [
    "[i[] for (t,i) in enumerate(q)]"
   ]
  },
  {
   "cell_type": "code",
   "execution_count": null,
   "metadata": {},
   "outputs": [],
   "source": [
    "vcat(map(x->x', q)...)"
   ]
  },
  {
   "cell_type": "code",
   "execution_count": null,
   "metadata": {},
   "outputs": [],
   "source": [
    "q"
   ]
  },
  {
   "cell_type": "code",
   "execution_count": null,
   "metadata": {},
   "outputs": [],
   "source": [
    "cat(2,q)"
   ]
  },
  {
   "cell_type": "code",
   "execution_count": null,
   "metadata": {},
   "outputs": [],
   "source": [
    "@time q = mapslices(calc_daily_growth, x, 3);"
   ]
  },
  {
   "cell_type": "code",
   "execution_count": null,
   "metadata": {},
   "outputs": [],
   "source": [
    "@time map(calc_daily_growth, w);"
   ]
  },
  {
   "cell_type": "code",
   "execution_count": null,
   "metadata": {},
   "outputs": [],
   "source": [
    "x = x[1,1,:];"
   ]
  },
  {
   "cell_type": "code",
   "execution_count": null,
   "metadata": {},
   "outputs": [],
   "source": [
    "#find range of growth\n",
    "grow_range = (x.>(TBASE)) .& (x.<(TTOP))\n",
    "\n",
    "gdd = zeros(Float64, size(x))\n",
    "gdd[grow_range] = x[grow_range] - TBASE #Later, adjust for Kelvin\n",
    "\n",
    "#[sum(cumprod(grow_range[i:(i+364)]) .* gdd[i:(i+364)], 1)[1] > AGDD for i in 1:365]\n",
    "\n",
    "# adjust TBASE to kelvin later\n"
   ]
  },
  {
   "cell_type": "markdown",
   "metadata": {},
   "source": [
    "# grid time slice"
   ]
  },
  {
   "cell_type": "markdown",
   "metadata": {},
   "source": [
    "## Test"
   ]
  },
  {
   "cell_type": "code",
   "execution_count": null,
   "metadata": {},
   "outputs": [],
   "source": [
    "using Stats"
   ]
  },
  {
   "cell_type": "markdown",
   "metadata": {},
   "source": [
    "### all zeros"
   ]
  },
  {
   "cell_type": "code",
   "execution_count": null,
   "metadata": {},
   "outputs": [],
   "source": [
    "x = zeros(730);\n",
    "x_t = zeros(Int8, size(x));\n",
    "run_val, run_len = rle(x_t)\n",
    "cs = cumsum(run_len);\n",
    "last_idx = findfirst(cs.>365, true)\n",
    "max_val, max_idx = findmax(run_val[1:last_idx] .* run_len[1:last_idx])\n",
    "longest_start = "
   ]
  },
  {
   "cell_type": "raw",
   "metadata": {},
   "source": [
    "- if max val = 0 ==> return 0\n"
   ]
  },
  {
   "cell_type": "markdown",
   "metadata": {},
   "source": [
    "### all ones"
   ]
  },
  {
   "cell_type": "code",
   "execution_count": null,
   "metadata": {},
   "outputs": [],
   "source": [
    "x = ones(730);\n",
    "x_t = ones(Int8, size(x));\n",
    "run_val, run_len = rle(x_t)\n",
    "cs = cumsum(run_len);\n",
    "last_idx = findfirst(cs.>365, true)\n",
    "max_val, max_idx = findmax(run_val[1:last_idx] .* run_len[1:last_idx])"
   ]
  },
  {
   "cell_type": "raw",
   "metadata": {},
   "source": [
    "- if max val > 365 ==> return (cs[max_idx]-max_val+1) : (cs[max_idx] - 365)"
   ]
  },
  {
   "cell_type": "code",
   "execution_count": null,
   "metadata": {},
   "outputs": [],
   "source": []
  },
  {
   "cell_type": "markdown",
   "metadata": {},
   "source": [
    "### ones only in part 1, at start"
   ]
  },
  {
   "cell_type": "code",
   "execution_count": null,
   "metadata": {},
   "outputs": [],
   "source": [
    "x = [1,1,1,1,1]\n",
    "x = vcat(x, zeros(730-size(x)[1]));\n",
    "x_t = zeros(Int8, size(x));\n",
    "x_t[x.==1] = 1\n",
    "run_val, run_len = rle(x_t)\n",
    "cs = cumsum(run_len);\n",
    "last_idx = findfirst(cs.>365, true)\n",
    "max_val, max_idx = findmax(run_val[1:last_idx] .* run_len[1:last_idx])"
   ]
  },
  {
   "cell_type": "code",
   "execution_count": null,
   "metadata": {},
   "outputs": [],
   "source": []
  },
  {
   "cell_type": "markdown",
   "metadata": {},
   "source": [
    "### ones only in part 1, not at start"
   ]
  },
  {
   "cell_type": "code",
   "execution_count": null,
   "metadata": {},
   "outputs": [],
   "source": [
    "x = [0,0,1,1,1,1,1]\n",
    "x = vcat(x, zeros(730-size(x)[1]));\n",
    "x_t = zeros(Int8, size(x));\n",
    "x_t[x.==1] = 1\n",
    "run_val, run_len = rle(x_t)\n",
    "cs = cumsum(run_len);\n",
    "last_idx = findfirst(cs.>365, true)\n",
    "max_val, max_idx = findmax(run_val[1:last_idx] .* run_len[1:last_idx])"
   ]
  },
  {
   "cell_type": "code",
   "execution_count": null,
   "metadata": {},
   "outputs": [],
   "source": [
    "(cs[max_idx]-max_val+1) : cs[max_idx] "
   ]
  },
  {
   "cell_type": "markdown",
   "metadata": {},
   "source": [
    "### ones overlap part2, at start"
   ]
  },
  {
   "cell_type": "code",
   "execution_count": null,
   "metadata": {},
   "outputs": [],
   "source": [
    "x = vcat(ones(400), zeros(330))\n",
    "x_t = zeros(Int8, size(x));\n",
    "x_t[x.==1] = 1\n",
    "run_val, run_len = rle(x_t)\n",
    "cs = cumsum(run_len);\n",
    "last_idx = findfirst(cs.>365, true)\n",
    "max_val, max_idx = findmax(run_val[1:last_idx] .* run_len[1:last_idx])"
   ]
  },
  {
   "cell_type": "code",
   "execution_count": null,
   "metadata": {},
   "outputs": [],
   "source": [
    "(cs[max_idx]-max_val+1) : (cs[max_idx]-max_val + 365)"
   ]
  },
  {
   "cell_type": "code",
   "execution_count": null,
   "metadata": {},
   "outputs": [],
   "source": [
    "x = vcat(zeros(30), ones(400), zeros(300))\n",
    "x_t = zeros(Int8, size(x));\n",
    "x_t[x.==1] = 1\n",
    "run_val, run_len = rle(x_t)\n",
    "cs = cumsum(run_len);\n",
    "last_idx = findfirst(cs.>365, true)\n",
    "max_val, max_idx = findmax(run_val[1:last_idx] .* run_len[1:last_idx])"
   ]
  },
  {
   "cell_type": "code",
   "execution_count": null,
   "metadata": {},
   "outputs": [],
   "source": [
    "(cs[max_idx]-max_val+1) : (cs[max_idx]-max_val + 365)"
   ]
  },
  {
   "cell_type": "code",
   "execution_count": null,
   "metadata": {},
   "outputs": [],
   "source": [
    "x[(cs[max_idx]-max_val+1): (cs[max_idx]-max_val + 365)]"
   ]
  },
  {
   "cell_type": "markdown",
   "metadata": {},
   "source": [
    "# Old"
   ]
  },
  {
   "cell_type": "code",
   "execution_count": null,
   "metadata": {},
   "outputs": [],
   "source": [
    "using NetCDF;\n",
    "using Stats;"
   ]
  },
  {
   "cell_type": "code",
   "execution_count": null,
   "metadata": {},
   "outputs": [],
   "source": [
    "rcps = [\"rcp45\", \"rcp85\"];\n",
    "\n",
    "cmips = [\"ACCESS1-0\", \"CSIRO-Mk3-6-0\", \"MIROC-ESM\", \"BCC-CSM1-1\", \n",
    "    \"GFDL-CM3\", \"MIROC-ESM-CHEM\", \"BNU-ESM\", \"GFDL-ESM2G\", \"MIROC5\", \"CanESM2\", \n",
    "    \"GFDL-ESM2M\", \"MPI-ESM-LR\", \"CCSM4\", \"INMCM4\", \"MPI-ESM-MR\", \"CESM1-BGC\", \n",
    "    \"IPSL-CM5A-LR\", \"MRI-CGCM3\", \"CNRM-CM5\", \"IPSL-CM5A-MR\", \"NorESM1-M\"];"
   ]
  },
  {
   "cell_type": "code",
   "execution_count": null,
   "metadata": {},
   "outputs": [],
   "source": [
    "year = 2006;\n",
    "tb = 10;\n",
    "tt = 40;\n",
    "ag = 1825;"
   ]
  },
  {
   "cell_type": "code",
   "execution_count": null,
   "metadata": {},
   "outputs": [],
   "source": [
    "function calc_temp_avg(cmip, rcp, year)\n",
    "    \n",
    "    tasmax = ncread(string(\"data/test/tasmax_day_BCSD_rcp45_r1i1p1_BNU-ESM_\", year, \".nc\"), \"tasmax\")\n",
    "    tasmin = ncread(string(\"data/test/tasmin_day_BCSD_rcp45_r1i1p1_BNU-ESM_\", year, \".nc\"), \"tasmin\")\n",
    "  \n",
    "    tavg = (tasmax + tasmin) / 2\n",
    "    \n",
    "    return tavg\n",
    "    \n",
    "end"
   ]
  },
  {
   "cell_type": "code",
   "execution_count": null,
   "metadata": {},
   "outputs": [],
   "source": [
    "tavg = calc_temp_avg(cmips[1], rcps[1], year);"
   ]
  },
  {
   "cell_type": "code",
   "execution_count": null,
   "metadata": {},
   "outputs": [],
   "source": [
    "x1 = [0,0,0,0,0,0,0,0,0,0];\n",
    "x2 = [0,0,0,0,0,0,0,0,0,0];"
   ]
  },
  {
   "cell_type": "code",
   "execution_count": null,
   "metadata": {},
   "outputs": [],
   "source": [
    "x = vcat(x1, x2);"
   ]
  },
  {
   "cell_type": "code",
   "execution_count": null,
   "metadata": {},
   "outputs": [],
   "source": [
    "using Stats"
   ]
  },
  {
   "cell_type": "code",
   "execution_count": null,
   "metadata": {},
   "outputs": [],
   "source": [
    "run_val, run_len = rle(x)"
   ]
  },
  {
   "cell_type": "code",
   "execution_count": null,
   "metadata": {},
   "outputs": [],
   "source": [
    "cs = cumsum(run_len)"
   ]
  },
  {
   "cell_type": "code",
   "execution_count": null,
   "metadata": {},
   "outputs": [],
   "source": [
    "last_idx = findfirst(cs.>=5, true)"
   ]
  },
  {
   "cell_type": "code",
   "execution_count": null,
   "metadata": {},
   "outputs": [],
   "source": [
    "max_val, max_idx = findmax(run_val[1:last_idx] .* run_len[1:last_idx])"
   ]
  },
  {
   "cell_type": "code",
   "execution_count": null,
   "metadata": {},
   "outputs": [],
   "source": [
    "sum(x[max_idx:(max_idx+max_val-1)])"
   ]
  },
  {
   "cell_type": "code",
   "execution_count": null,
   "metadata": {},
   "outputs": [],
   "source": [
    "function calc_max_gdd(x, tbase, ttop, agdd)\n",
    "   \n",
    "    x_t = zeros(Int8, size(x))\n",
    "    x_t[(x.>(273.15+tbase)) .& (x.<(273.15+ttop))] = 1;\n",
    "    #println(x_t)\n",
    "    \n",
    "    run_val, run_len = rle(x_t)\n",
    "    #println([run_val, run_len])\n",
    "    max_val, max_idx = findmax(run_val .* run_len)\n",
    "    #println([max_val, max_idx])\n",
    "    \n",
    "    # if all zero, return 0\n",
    "    if max_val == 0\n",
    "        return 0\n",
    "    end\n",
    "    \n",
    "    if max_val == size(x)[1]\n",
    "        if sum(x-273.15) > agdd\n",
    "            return 1\n",
    "        else\n",
    "            return 0\n",
    "        end\n",
    "    end\n",
    "    \n",
    "    cs = cumsum(run_len)\n",
    "    \n",
    "    if max_idx == 1\n",
    "        best_idx = 1:max_val \n",
    "    else\n",
    "        best_idx = cs[max_idx-1]+1 : cs[max_idx]\n",
    "    end\n",
    "    \n",
    "    if sum(x[best_idx]-273.15) > agdd\n",
    "        return 1\n",
    "    else\n",
    "        return 0\n",
    "    end\n",
    "    \n",
    "end"
   ]
  },
  {
   "cell_type": "code",
   "execution_count": null,
   "metadata": {},
   "outputs": [],
   "source": [
    "tavg"
   ]
  },
  {
   "cell_type": "code",
   "execution_count": null,
   "metadata": {},
   "outputs": [],
   "source": [
    "function process_model(cmip, rcp, year, tbase, ttop, req_agdd)\n",
    "   \n",
    "    tavg = calc_temp_avg(cmip, rcp, year);\n",
    "    [calc_max_gdd(tavg[x,y,:], tbase, ttop, req_agdd) for x in 1:size(tavg)[1], y in 1:size(tavg)[2]]\n",
    "    \n",
    "end"
   ]
  },
  {
   "cell_type": "code",
   "execution_count": null,
   "metadata": {},
   "outputs": [],
   "source": []
  },
  {
   "cell_type": "code",
   "execution_count": null,
   "metadata": {},
   "outputs": [],
   "source": [
    "function predict_growth(year, tbase, ttop, req_agdd)\n",
    "    \n",
    "    rcps = [\"rcp45\", \"rcp85\"];\n",
    "\n",
    "    cmips = [\"ACCESS1-0\", \"CSIRO-Mk3-6-0\", \"MIROC-ESM\", \"BCC-CSM1-1\", \n",
    "        \"GFDL-CM3\", \"MIROC-ESM-CHEM\", \"BNU-ESM\", \"GFDL-ESM2G\", \"MIROC5\", \"CanESM2\", \n",
    "        \"GFDL-ESM2M\", \"MPI-ESM-LR\", \"CCSM4\", \"INMCM4\", \"MPI-ESM-MR\", \"CESM1-BGC\", \n",
    "        \"IPSL-CM5A-LR\", \"MRI-CGCM3\", \"CNRM-CM5\", \"IPSL-CM5A-MR\", \"NorESM1-M\"];\n",
    "    \n",
    "    store_mat = zeros(1440, 720)\n",
    "    \n",
    "    for rcp in rcps\n",
    "    \n",
    "        println(rcp)\n",
    "        \n",
    "        for cmip in cmips\n",
    "           \n",
    "            println(string(\"  \", cmip))\n",
    "            store_mat += process_model(cmip, rcp, year, tbase, ttop, req_agdd)\n",
    "            \n",
    "        end\n",
    "    \n",
    "    end\n",
    "    \n",
    "    store_mat / 42\n",
    "    \n",
    "end"
   ]
  },
  {
   "cell_type": "code",
   "execution_count": null,
   "metadata": {},
   "outputs": [],
   "source": [
    "total_mat = zeroes()"
   ]
  },
  {
   "cell_type": "code",
   "execution_count": null,
   "metadata": {},
   "outputs": [],
   "source": [
    "function process_models()"
   ]
  },
  {
   "cell_type": "code",
   "execution_count": null,
   "metadata": {},
   "outputs": [],
   "source": [
    "@time best_gdd = [calc_max_gdd(tavg[x,y,:], tb, tt, ag) for x in 1:size(tavg)[1], y in 1:size(tavg)[2]]"
   ]
  },
  {
   "cell_type": "code",
   "execution_count": null,
   "metadata": {},
   "outputs": [],
   "source": [
    "maximum(best_gdd)"
   ]
  },
  {
   "cell_type": "code",
   "execution_count": null,
   "metadata": {},
   "outputs": [],
   "source": [
    "using Plots"
   ]
  },
  {
   "cell_type": "code",
   "execution_count": null,
   "metadata": {},
   "outputs": [],
   "source": [
    "spy(best_gdd)"
   ]
  },
  {
   "cell_type": "code",
   "execution_count": null,
   "metadata": {},
   "outputs": [],
   "source": [
    "# set missing (extreme max) 0 NOT NECESSARY, TTOP got it\n",
    "#tavg[tavg.==maximum(tavg)] = 0; "
   ]
  },
  {
   "cell_type": "code",
   "execution_count": null,
   "metadata": {},
   "outputs": [],
   "source": [
    "tavg_bin = zeros(Int8, size(tavg))\n",
    "tavg_bin[tavg.>tbase * tavg.<ttop] = 1;"
   ]
  },
  {
   "cell_type": "code",
   "execution_count": null,
   "metadata": {},
   "outputs": [],
   "source": []
  },
  {
   "cell_type": "code",
   "execution_count": null,
   "metadata": {},
   "outputs": [],
   "source": [
    "# assumes array of only 0 and 1\n",
    "function longest_run_index_range(x)\n",
    "   \n",
    "    run_val, run_len = rle(x)\n",
    "    max_len, max_idx = findmax(run_val .* run_len)\n",
    "    \n",
    "    if max_len == 0\n",
    "        return 0:0\n",
    "    end\n",
    "    \n",
    "    cs = cumsum(run_len)\n",
    "    cs[max_idx-1]+1 : cs[max_idx]\n",
    "\n",
    "    \n",
    "end"
   ]
  },
  {
   "cell_type": "code",
   "execution_count": null,
   "metadata": {},
   "outputs": [],
   "source": [
    "mapslices(longest_run_index_range, tavg_bin, 3)"
   ]
  },
  {
   "cell_type": "code",
   "execution_count": null,
   "metadata": {},
   "outputs": [],
   "source": [
    "rle(tavg_bin[1,1,:])"
   ]
  },
  {
   "cell_type": "code",
   "execution_count": null,
   "metadata": {},
   "outputs": [],
   "source": [
    "for x in size(tavg)[1]\n",
    "\n",
    "    for y in size(tavg)[2]\n",
    "       \n",
    "        rle()\n",
    "        \n",
    "    end\n",
    "    \n",
    "end\n"
   ]
  },
  {
   "cell_type": "code",
   "execution_count": null,
   "metadata": {},
   "outputs": [],
   "source": [
    "# find where greater than tbase and less than tmax\n",
    "tavg_bin = tavg.>tbase * tavg.<ttop;"
   ]
  },
  {
   "cell_type": "code",
   "execution_count": null,
   "metadata": {},
   "outputs": [],
   "source": []
  },
  {
   "cell_type": "code",
   "execution_count": null,
   "metadata": {},
   "outputs": [],
   "source": [
    "rle(tavg_bin[1,1,:])"
   ]
  },
  {
   "cell_type": "code",
   "execution_count": null,
   "metadata": {},
   "outputs": [],
   "source": [
    "convert(Array{Int64, 1}, tavg_bin)"
   ]
  },
  {
   "cell_type": "code",
   "execution_count": null,
   "metadata": {},
   "outputs": [],
   "source": [
    "using Stats;"
   ]
  },
  {
   "cell_type": "code",
   "execution_count": null,
   "metadata": {},
   "outputs": [],
   "source": [
    "tavg_bin[1,1,:]"
   ]
  },
  {
   "cell_type": "markdown",
   "metadata": {},
   "source": [
    "- for a given year\n",
    "- go through each model\n",
    "- get tavg data\n",
    "- "
   ]
  }
 ],
 "metadata": {
  "kernelspec": {
   "display_name": "Julia 0.6.2",
   "language": "julia",
   "name": "julia-0.6"
  },
  "language_info": {
   "file_extension": ".jl",
   "mimetype": "application/julia",
   "name": "julia",
   "version": "0.6.2"
  }
 },
 "nbformat": 4,
 "nbformat_minor": 2
}
